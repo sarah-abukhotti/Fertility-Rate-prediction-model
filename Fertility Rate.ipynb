{
 "cells": [
  {
   "cell_type": "code",
   "execution_count": 468,
   "id": "d6f5180d",
   "metadata": {},
   "outputs": [],
   "source": [
    "# for data handling cleaning and exploration\n",
    "import pandas as pd \n",
    "# for visiualization\n",
    "import matplotlib.pyplot as plt \n",
    "# for mathmatics\n",
    "import numpy as np \n",
    "# for spliting data\n",
    "from sklearn.model_selection import train_test_split\n",
    "# for clustring taining data\n",
    "from sklearn.cluster import KMeans\n",
    "# neccesry to determine th number of clusters needd\n",
    "from sklearn.metrics import silhouette_score\n",
    "import seaborn as sns\n",
    "# for linear regeission model\n",
    "from sklearn.linear_model import LinearRegression\n",
    "# for evaluating the regrission model\n",
    "from sklearn import metrics\n",
    "from sklearn.tree import DecisionTreeClassifier # Import Decision Tree Classifier\n",
    "from sklearn.model_selection import train_test_split # Import train_test_split function\n",
    "from sklearn import metrics #Import scikit-learn metrics module for accuracy calculation\n",
    "from sklearn import preprocessing"
   ]
  },
  {
   "cell_type": "code",
   "execution_count": 469,
   "id": "6a70b431",
   "metadata": {},
   "outputs": [],
   "source": [
    "# to read the data from the table and insert them in a pandas dataframe called fretility_rate\n",
    "# the fertility_rate.csv file is saved at the same file the jupyter notebook is created so we can access it directly\n",
    "fretility_rate = pd.read_csv('fertility_rate.csv')"
   ]
  },
  {
   "cell_type": "code",
   "execution_count": 470,
   "id": "e6d7c3be",
   "metadata": {},
   "outputs": [
    {
     "name": "stdout",
     "output_type": "stream",
     "text": [
      "         Country  1960  1961  1962  1963  1964  1965  1966  1967  1968  ...  \\\n",
      "0         _World  4.98  5.00  5.03  5.05  5.06  5.04  4.99  4.97  4.92  ...   \n",
      "1    Afghanistan  7.45  7.45  7.45  7.45  7.45  7.45  7.45  7.45  7.45  ...   \n",
      "2        Albania  6.49  6.40  6.28  6.13  5.96  5.77  5.58  5.39  5.22  ...   \n",
      "3        Algeria  7.52  7.57  7.61  7.65  7.67  7.68  7.68  7.67  7.67  ...   \n",
      "4         Angola  6.71  6.79  6.87  6.95  7.04  7.12  7.19  7.27  7.33  ...   \n",
      "..           ...   ...   ...   ...   ...   ...   ...   ...   ...   ...  ...   \n",
      "182    Venezuela  6.36  6.30  6.23  6.16  6.07  5.98  5.87  5.75  5.61  ...   \n",
      "183      Vietnam  6.35  6.39  6.43  6.45  6.46  6.48  6.49  6.49  6.49  ...   \n",
      "184        Yemen  7.94  7.96  7.99  8.03  8.07  8.11  8.17  8.22  8.28  ...   \n",
      "185       Zambia  7.12  7.17  7.21  7.25  7.27  7.29  7.30  7.32  7.33  ...   \n",
      "186     Zimbabwe  7.16  7.22  7.27  7.31  7.35  7.37  7.39  7.40  7.41  ...   \n",
      "\n",
      "     2011  2012  2013  2014  2015  2016  2017  2018  2019  2020  \n",
      "0    2.50  2.49  2.47  2.46  2.46  2.44  2.43  2.41  2.40  2.39  \n",
      "1    5.77  5.56  5.36  5.16  4.98  4.80  4.63  4.47  4.32  4.18  \n",
      "2    1.67  1.68  1.69  1.69  1.68  1.66  1.64  1.62  1.60  1.58  \n",
      "3    2.91  2.95  2.99  3.02  3.04  3.05  3.05  3.02  2.99  2.94  \n",
      "4    6.12  6.04  5.95  5.86  5.77  5.69  5.60  5.52  5.44  5.37  \n",
      "..    ...   ...   ...   ...   ...   ...   ...   ...   ...   ...  \n",
      "182  2.44  2.42  2.39  2.37  2.34  2.32  2.29  2.27  2.25  2.23  \n",
      "183  1.95  1.96  1.98  2.00  2.01  2.03  2.04  2.05  2.05  2.05  \n",
      "184  4.55  4.44  4.33  4.21  4.10  3.99  3.89  3.79  3.70  3.61  \n",
      "185  5.33  5.23  5.13  5.03  4.92  4.81  4.72  4.63  4.56  4.50  \n",
      "186  4.06  4.06  4.03  3.97  3.90  3.80  3.71  3.62  3.53  3.46  \n",
      "\n",
      "[187 rows x 62 columns]\n",
      "Number of Rows:  187\n",
      "Number of Columns:  62\n"
     ]
    }
   ],
   "source": [
    "#to see what the data in hand look like and how many rows, columns\n",
    "# computing number of rows\n",
    "rows = len(fretility_rate.axes[0])\n",
    " \n",
    "# computing number of columns\n",
    "cols = len(fretility_rate.axes[1])\n",
    " \n",
    "print(fretility_rate)\n",
    "print(\"Number of Rows: \", rows)\n",
    "print(\"Number of Columns: \", cols)                           "
   ]
  },
  {
   "cell_type": "code",
   "execution_count": 248,
   "id": "5c391230",
   "metadata": {},
   "outputs": [
    {
     "data": {
      "text/html": [
       "<div>\n",
       "<style scoped>\n",
       "    .dataframe tbody tr th:only-of-type {\n",
       "        vertical-align: middle;\n",
       "    }\n",
       "\n",
       "    .dataframe tbody tr th {\n",
       "        vertical-align: top;\n",
       "    }\n",
       "\n",
       "    .dataframe thead th {\n",
       "        text-align: right;\n",
       "    }\n",
       "</style>\n",
       "<table border=\"1\" class=\"dataframe\">\n",
       "  <thead>\n",
       "    <tr style=\"text-align: right;\">\n",
       "      <th></th>\n",
       "      <th>Country</th>\n",
       "      <th>1960</th>\n",
       "      <th>1961</th>\n",
       "      <th>1962</th>\n",
       "      <th>1963</th>\n",
       "      <th>1964</th>\n",
       "      <th>1965</th>\n",
       "      <th>1966</th>\n",
       "      <th>1967</th>\n",
       "      <th>1968</th>\n",
       "      <th>...</th>\n",
       "      <th>2011</th>\n",
       "      <th>2012</th>\n",
       "      <th>2013</th>\n",
       "      <th>2014</th>\n",
       "      <th>2015</th>\n",
       "      <th>2016</th>\n",
       "      <th>2017</th>\n",
       "      <th>2018</th>\n",
       "      <th>2019</th>\n",
       "      <th>2020</th>\n",
       "    </tr>\n",
       "  </thead>\n",
       "  <tbody>\n",
       "    <tr>\n",
       "      <th>0</th>\n",
       "      <td>_World</td>\n",
       "      <td>4.98</td>\n",
       "      <td>5.00</td>\n",
       "      <td>5.03</td>\n",
       "      <td>5.05</td>\n",
       "      <td>5.06</td>\n",
       "      <td>5.04</td>\n",
       "      <td>4.99</td>\n",
       "      <td>4.97</td>\n",
       "      <td>4.92</td>\n",
       "      <td>...</td>\n",
       "      <td>2.50</td>\n",
       "      <td>2.49</td>\n",
       "      <td>2.47</td>\n",
       "      <td>2.46</td>\n",
       "      <td>2.46</td>\n",
       "      <td>2.44</td>\n",
       "      <td>2.43</td>\n",
       "      <td>2.41</td>\n",
       "      <td>2.40</td>\n",
       "      <td>2.39</td>\n",
       "    </tr>\n",
       "    <tr>\n",
       "      <th>1</th>\n",
       "      <td>Afghanistan</td>\n",
       "      <td>7.45</td>\n",
       "      <td>7.45</td>\n",
       "      <td>7.45</td>\n",
       "      <td>7.45</td>\n",
       "      <td>7.45</td>\n",
       "      <td>7.45</td>\n",
       "      <td>7.45</td>\n",
       "      <td>7.45</td>\n",
       "      <td>7.45</td>\n",
       "      <td>...</td>\n",
       "      <td>5.77</td>\n",
       "      <td>5.56</td>\n",
       "      <td>5.36</td>\n",
       "      <td>5.16</td>\n",
       "      <td>4.98</td>\n",
       "      <td>4.80</td>\n",
       "      <td>4.63</td>\n",
       "      <td>4.47</td>\n",
       "      <td>4.32</td>\n",
       "      <td>4.18</td>\n",
       "    </tr>\n",
       "    <tr>\n",
       "      <th>2</th>\n",
       "      <td>Albania</td>\n",
       "      <td>6.49</td>\n",
       "      <td>6.40</td>\n",
       "      <td>6.28</td>\n",
       "      <td>6.13</td>\n",
       "      <td>5.96</td>\n",
       "      <td>5.77</td>\n",
       "      <td>5.58</td>\n",
       "      <td>5.39</td>\n",
       "      <td>5.22</td>\n",
       "      <td>...</td>\n",
       "      <td>1.67</td>\n",
       "      <td>1.68</td>\n",
       "      <td>1.69</td>\n",
       "      <td>1.69</td>\n",
       "      <td>1.68</td>\n",
       "      <td>1.66</td>\n",
       "      <td>1.64</td>\n",
       "      <td>1.62</td>\n",
       "      <td>1.60</td>\n",
       "      <td>1.58</td>\n",
       "    </tr>\n",
       "    <tr>\n",
       "      <th>3</th>\n",
       "      <td>Algeria</td>\n",
       "      <td>7.52</td>\n",
       "      <td>7.57</td>\n",
       "      <td>7.61</td>\n",
       "      <td>7.65</td>\n",
       "      <td>7.67</td>\n",
       "      <td>7.68</td>\n",
       "      <td>7.68</td>\n",
       "      <td>7.67</td>\n",
       "      <td>7.67</td>\n",
       "      <td>...</td>\n",
       "      <td>2.91</td>\n",
       "      <td>2.95</td>\n",
       "      <td>2.99</td>\n",
       "      <td>3.02</td>\n",
       "      <td>3.04</td>\n",
       "      <td>3.05</td>\n",
       "      <td>3.05</td>\n",
       "      <td>3.02</td>\n",
       "      <td>2.99</td>\n",
       "      <td>2.94</td>\n",
       "    </tr>\n",
       "    <tr>\n",
       "      <th>4</th>\n",
       "      <td>Angola</td>\n",
       "      <td>6.71</td>\n",
       "      <td>6.79</td>\n",
       "      <td>6.87</td>\n",
       "      <td>6.95</td>\n",
       "      <td>7.04</td>\n",
       "      <td>7.12</td>\n",
       "      <td>7.19</td>\n",
       "      <td>7.27</td>\n",
       "      <td>7.33</td>\n",
       "      <td>...</td>\n",
       "      <td>6.12</td>\n",
       "      <td>6.04</td>\n",
       "      <td>5.95</td>\n",
       "      <td>5.86</td>\n",
       "      <td>5.77</td>\n",
       "      <td>5.69</td>\n",
       "      <td>5.60</td>\n",
       "      <td>5.52</td>\n",
       "      <td>5.44</td>\n",
       "      <td>5.37</td>\n",
       "    </tr>\n",
       "  </tbody>\n",
       "</table>\n",
       "<p>5 rows × 62 columns</p>\n",
       "</div>"
      ],
      "text/plain": [
       "       Country  1960  1961  1962  1963  1964  1965  1966  1967  1968  ...  \\\n",
       "0       _World  4.98  5.00  5.03  5.05  5.06  5.04  4.99  4.97  4.92  ...   \n",
       "1  Afghanistan  7.45  7.45  7.45  7.45  7.45  7.45  7.45  7.45  7.45  ...   \n",
       "2      Albania  6.49  6.40  6.28  6.13  5.96  5.77  5.58  5.39  5.22  ...   \n",
       "3      Algeria  7.52  7.57  7.61  7.65  7.67  7.68  7.68  7.67  7.67  ...   \n",
       "4       Angola  6.71  6.79  6.87  6.95  7.04  7.12  7.19  7.27  7.33  ...   \n",
       "\n",
       "   2011  2012  2013  2014  2015  2016  2017  2018  2019  2020  \n",
       "0  2.50  2.49  2.47  2.46  2.46  2.44  2.43  2.41  2.40  2.39  \n",
       "1  5.77  5.56  5.36  5.16  4.98  4.80  4.63  4.47  4.32  4.18  \n",
       "2  1.67  1.68  1.69  1.69  1.68  1.66  1.64  1.62  1.60  1.58  \n",
       "3  2.91  2.95  2.99  3.02  3.04  3.05  3.05  3.02  2.99  2.94  \n",
       "4  6.12  6.04  5.95  5.86  5.77  5.69  5.60  5.52  5.44  5.37  \n",
       "\n",
       "[5 rows x 62 columns]"
      ]
     },
     "execution_count": 248,
     "metadata": {},
     "output_type": "execute_result"
    }
   ],
   "source": [
    "#or we can use head, tail functions to see the nature of the data\n",
    "fretility_rate.head()"
   ]
  },
  {
   "cell_type": "code",
   "execution_count": 462,
   "id": "dc225841",
   "metadata": {},
   "outputs": [
    {
     "data": {
      "text/html": [
       "<div>\n",
       "<style scoped>\n",
       "    .dataframe tbody tr th:only-of-type {\n",
       "        vertical-align: middle;\n",
       "    }\n",
       "\n",
       "    .dataframe tbody tr th {\n",
       "        vertical-align: top;\n",
       "    }\n",
       "\n",
       "    .dataframe thead th {\n",
       "        text-align: right;\n",
       "    }\n",
       "</style>\n",
       "<table border=\"1\" class=\"dataframe\">\n",
       "  <thead>\n",
       "    <tr style=\"text-align: right;\">\n",
       "      <th></th>\n",
       "      <th>1960</th>\n",
       "      <th>1961</th>\n",
       "      <th>1962</th>\n",
       "      <th>1963</th>\n",
       "      <th>1964</th>\n",
       "      <th>1965</th>\n",
       "      <th>1966</th>\n",
       "      <th>1967</th>\n",
       "      <th>1968</th>\n",
       "      <th>1969</th>\n",
       "      <th>...</th>\n",
       "      <th>2012</th>\n",
       "      <th>2013</th>\n",
       "      <th>2014</th>\n",
       "      <th>2015</th>\n",
       "      <th>2016</th>\n",
       "      <th>2017</th>\n",
       "      <th>2018</th>\n",
       "      <th>2019</th>\n",
       "      <th>2020</th>\n",
       "      <th>Change</th>\n",
       "    </tr>\n",
       "  </thead>\n",
       "  <tbody>\n",
       "    <tr>\n",
       "      <th>count</th>\n",
       "      <td>187.000000</td>\n",
       "      <td>187.000000</td>\n",
       "      <td>187.000000</td>\n",
       "      <td>187.000000</td>\n",
       "      <td>187.000000</td>\n",
       "      <td>187.000000</td>\n",
       "      <td>187.000000</td>\n",
       "      <td>187.000000</td>\n",
       "      <td>187.000000</td>\n",
       "      <td>187.000000</td>\n",
       "      <td>...</td>\n",
       "      <td>187.000000</td>\n",
       "      <td>187.000000</td>\n",
       "      <td>187.000000</td>\n",
       "      <td>187.000000</td>\n",
       "      <td>187.000000</td>\n",
       "      <td>187.000000</td>\n",
       "      <td>187.000000</td>\n",
       "      <td>187.000000</td>\n",
       "      <td>187.000000</td>\n",
       "      <td>187.000000</td>\n",
       "    </tr>\n",
       "    <tr>\n",
       "      <th>mean</th>\n",
       "      <td>5.533529</td>\n",
       "      <td>5.526578</td>\n",
       "      <td>5.514385</td>\n",
       "      <td>5.499251</td>\n",
       "      <td>5.472888</td>\n",
       "      <td>5.426043</td>\n",
       "      <td>5.375561</td>\n",
       "      <td>5.334545</td>\n",
       "      <td>5.281925</td>\n",
       "      <td>5.229358</td>\n",
       "      <td>...</td>\n",
       "      <td>2.883155</td>\n",
       "      <td>2.844813</td>\n",
       "      <td>2.820107</td>\n",
       "      <td>2.788770</td>\n",
       "      <td>2.758342</td>\n",
       "      <td>2.717112</td>\n",
       "      <td>2.684225</td>\n",
       "      <td>2.649626</td>\n",
       "      <td>2.610749</td>\n",
       "      <td>2.922781</td>\n",
       "    </tr>\n",
       "    <tr>\n",
       "      <th>std</th>\n",
       "      <td>1.735528</td>\n",
       "      <td>1.747268</td>\n",
       "      <td>1.762098</td>\n",
       "      <td>1.771850</td>\n",
       "      <td>1.784293</td>\n",
       "      <td>1.815374</td>\n",
       "      <td>1.846265</td>\n",
       "      <td>1.852808</td>\n",
       "      <td>1.875046</td>\n",
       "      <td>1.893093</td>\n",
       "      <td>...</td>\n",
       "      <td>1.410730</td>\n",
       "      <td>1.388468</td>\n",
       "      <td>1.355010</td>\n",
       "      <td>1.326472</td>\n",
       "      <td>1.296972</td>\n",
       "      <td>1.277288</td>\n",
       "      <td>1.255320</td>\n",
       "      <td>1.234040</td>\n",
       "      <td>1.215841</td>\n",
       "      <td>1.462160</td>\n",
       "    </tr>\n",
       "    <tr>\n",
       "      <th>min</th>\n",
       "      <td>1.940000</td>\n",
       "      <td>1.940000</td>\n",
       "      <td>1.790000</td>\n",
       "      <td>1.820000</td>\n",
       "      <td>1.790000</td>\n",
       "      <td>1.740000</td>\n",
       "      <td>1.580000</td>\n",
       "      <td>1.800000</td>\n",
       "      <td>1.830000</td>\n",
       "      <td>1.870000</td>\n",
       "      <td>...</td>\n",
       "      <td>1.270000</td>\n",
       "      <td>1.190000</td>\n",
       "      <td>1.210000</td>\n",
       "      <td>1.240000</td>\n",
       "      <td>1.170000</td>\n",
       "      <td>1.050000</td>\n",
       "      <td>0.980000</td>\n",
       "      <td>0.920000</td>\n",
       "      <td>0.840000</td>\n",
       "      <td>0.380000</td>\n",
       "    </tr>\n",
       "    <tr>\n",
       "      <th>25%</th>\n",
       "      <td>4.110000</td>\n",
       "      <td>3.930000</td>\n",
       "      <td>4.045000</td>\n",
       "      <td>4.000000</td>\n",
       "      <td>3.970000</td>\n",
       "      <td>3.825000</td>\n",
       "      <td>3.665000</td>\n",
       "      <td>3.555000</td>\n",
       "      <td>3.405000</td>\n",
       "      <td>3.260000</td>\n",
       "      <td>...</td>\n",
       "      <td>1.800000</td>\n",
       "      <td>1.760000</td>\n",
       "      <td>1.750000</td>\n",
       "      <td>1.745000</td>\n",
       "      <td>1.745000</td>\n",
       "      <td>1.725000</td>\n",
       "      <td>1.710000</td>\n",
       "      <td>1.705000</td>\n",
       "      <td>1.630000</td>\n",
       "      <td>1.565000</td>\n",
       "    </tr>\n",
       "    <tr>\n",
       "      <th>50%</th>\n",
       "      <td>6.250000</td>\n",
       "      <td>6.270000</td>\n",
       "      <td>6.220000</td>\n",
       "      <td>6.170000</td>\n",
       "      <td>6.130000</td>\n",
       "      <td>6.100000</td>\n",
       "      <td>6.080000</td>\n",
       "      <td>6.010000</td>\n",
       "      <td>5.940000</td>\n",
       "      <td>5.850000</td>\n",
       "      <td>...</td>\n",
       "      <td>2.420000</td>\n",
       "      <td>2.390000</td>\n",
       "      <td>2.370000</td>\n",
       "      <td>2.340000</td>\n",
       "      <td>2.320000</td>\n",
       "      <td>2.280000</td>\n",
       "      <td>2.260000</td>\n",
       "      <td>2.240000</td>\n",
       "      <td>2.210000</td>\n",
       "      <td>2.920000</td>\n",
       "    </tr>\n",
       "    <tr>\n",
       "      <th>75%</th>\n",
       "      <td>6.825000</td>\n",
       "      <td>6.830000</td>\n",
       "      <td>6.835000</td>\n",
       "      <td>6.835000</td>\n",
       "      <td>6.845000</td>\n",
       "      <td>6.805000</td>\n",
       "      <td>6.805000</td>\n",
       "      <td>6.775000</td>\n",
       "      <td>6.750000</td>\n",
       "      <td>6.730000</td>\n",
       "      <td>...</td>\n",
       "      <td>3.845000</td>\n",
       "      <td>3.790000</td>\n",
       "      <td>3.745000</td>\n",
       "      <td>3.700000</td>\n",
       "      <td>3.655000</td>\n",
       "      <td>3.610000</td>\n",
       "      <td>3.565000</td>\n",
       "      <td>3.525000</td>\n",
       "      <td>3.480000</td>\n",
       "      <td>4.210000</td>\n",
       "    </tr>\n",
       "    <tr>\n",
       "      <th>max</th>\n",
       "      <td>8.190000</td>\n",
       "      <td>8.190000</td>\n",
       "      <td>8.200000</td>\n",
       "      <td>8.200000</td>\n",
       "      <td>8.200000</td>\n",
       "      <td>8.200000</td>\n",
       "      <td>8.200000</td>\n",
       "      <td>8.220000</td>\n",
       "      <td>8.280000</td>\n",
       "      <td>8.330000</td>\n",
       "      <td>...</td>\n",
       "      <td>7.380000</td>\n",
       "      <td>7.310000</td>\n",
       "      <td>7.250000</td>\n",
       "      <td>7.170000</td>\n",
       "      <td>7.090000</td>\n",
       "      <td>7.000000</td>\n",
       "      <td>6.910000</td>\n",
       "      <td>6.820000</td>\n",
       "      <td>6.740000</td>\n",
       "      <td>5.560000</td>\n",
       "    </tr>\n",
       "  </tbody>\n",
       "</table>\n",
       "<p>8 rows × 62 columns</p>\n",
       "</div>"
      ],
      "text/plain": [
       "             1960        1961        1962        1963        1964        1965  \\\n",
       "count  187.000000  187.000000  187.000000  187.000000  187.000000  187.000000   \n",
       "mean     5.533529    5.526578    5.514385    5.499251    5.472888    5.426043   \n",
       "std      1.735528    1.747268    1.762098    1.771850    1.784293    1.815374   \n",
       "min      1.940000    1.940000    1.790000    1.820000    1.790000    1.740000   \n",
       "25%      4.110000    3.930000    4.045000    4.000000    3.970000    3.825000   \n",
       "50%      6.250000    6.270000    6.220000    6.170000    6.130000    6.100000   \n",
       "75%      6.825000    6.830000    6.835000    6.835000    6.845000    6.805000   \n",
       "max      8.190000    8.190000    8.200000    8.200000    8.200000    8.200000   \n",
       "\n",
       "             1966        1967        1968        1969  ...        2012  \\\n",
       "count  187.000000  187.000000  187.000000  187.000000  ...  187.000000   \n",
       "mean     5.375561    5.334545    5.281925    5.229358  ...    2.883155   \n",
       "std      1.846265    1.852808    1.875046    1.893093  ...    1.410730   \n",
       "min      1.580000    1.800000    1.830000    1.870000  ...    1.270000   \n",
       "25%      3.665000    3.555000    3.405000    3.260000  ...    1.800000   \n",
       "50%      6.080000    6.010000    5.940000    5.850000  ...    2.420000   \n",
       "75%      6.805000    6.775000    6.750000    6.730000  ...    3.845000   \n",
       "max      8.200000    8.220000    8.280000    8.330000  ...    7.380000   \n",
       "\n",
       "             2013        2014        2015        2016        2017        2018  \\\n",
       "count  187.000000  187.000000  187.000000  187.000000  187.000000  187.000000   \n",
       "mean     2.844813    2.820107    2.788770    2.758342    2.717112    2.684225   \n",
       "std      1.388468    1.355010    1.326472    1.296972    1.277288    1.255320   \n",
       "min      1.190000    1.210000    1.240000    1.170000    1.050000    0.980000   \n",
       "25%      1.760000    1.750000    1.745000    1.745000    1.725000    1.710000   \n",
       "50%      2.390000    2.370000    2.340000    2.320000    2.280000    2.260000   \n",
       "75%      3.790000    3.745000    3.700000    3.655000    3.610000    3.565000   \n",
       "max      7.310000    7.250000    7.170000    7.090000    7.000000    6.910000   \n",
       "\n",
       "             2019        2020      Change  \n",
       "count  187.000000  187.000000  187.000000  \n",
       "mean     2.649626    2.610749    2.922781  \n",
       "std      1.234040    1.215841    1.462160  \n",
       "min      0.920000    0.840000    0.380000  \n",
       "25%      1.705000    1.630000    1.565000  \n",
       "50%      2.240000    2.210000    2.920000  \n",
       "75%      3.525000    3.480000    4.210000  \n",
       "max      6.820000    6.740000    5.560000  \n",
       "\n",
       "[8 rows x 62 columns]"
      ]
     },
     "execution_count": 462,
     "metadata": {},
     "output_type": "execute_result"
    }
   ],
   "source": [
    "fretility_rate.describe()"
   ]
  },
  {
   "cell_type": "code",
   "execution_count": 249,
   "id": "81365398",
   "metadata": {},
   "outputs": [],
   "source": [
    "# since the years are handled as attribute and we are unable to reach spiecific values we will turn then into values\n",
    "# for better access list of years for the melting of dataframe\n",
    "years = list(map(lambda x: str(x), list(range(1960,2020))))"
   ]
  },
  {
   "cell_type": "code",
   "execution_count": 250,
   "id": "a7cb9551",
   "metadata": {},
   "outputs": [],
   "source": [
    "# melting dataframe\n",
    "fertility_rate = pd.melt(fretility_rate,id_vars = [\"Country\"],\n",
    "                         value_vars = years,\n",
    "             var_name = 'year', value_name = \"Fr\", col_level = None)"
   ]
  },
  {
   "cell_type": "code",
   "execution_count": 251,
   "id": "cc795a9d",
   "metadata": {},
   "outputs": [
    {
     "data": {
      "text/html": [
       "<div>\n",
       "<style scoped>\n",
       "    .dataframe tbody tr th:only-of-type {\n",
       "        vertical-align: middle;\n",
       "    }\n",
       "\n",
       "    .dataframe tbody tr th {\n",
       "        vertical-align: top;\n",
       "    }\n",
       "\n",
       "    .dataframe thead th {\n",
       "        text-align: right;\n",
       "    }\n",
       "</style>\n",
       "<table border=\"1\" class=\"dataframe\">\n",
       "  <thead>\n",
       "    <tr style=\"text-align: right;\">\n",
       "      <th></th>\n",
       "      <th>Country</th>\n",
       "      <th>year</th>\n",
       "      <th>Fr</th>\n",
       "    </tr>\n",
       "  </thead>\n",
       "  <tbody>\n",
       "    <tr>\n",
       "      <th>0</th>\n",
       "      <td>_World</td>\n",
       "      <td>1960</td>\n",
       "      <td>4.98</td>\n",
       "    </tr>\n",
       "    <tr>\n",
       "      <th>1</th>\n",
       "      <td>Afghanistan</td>\n",
       "      <td>1960</td>\n",
       "      <td>7.45</td>\n",
       "    </tr>\n",
       "    <tr>\n",
       "      <th>2</th>\n",
       "      <td>Albania</td>\n",
       "      <td>1960</td>\n",
       "      <td>6.49</td>\n",
       "    </tr>\n",
       "  </tbody>\n",
       "</table>\n",
       "</div>"
      ],
      "text/plain": [
       "       Country  year    Fr\n",
       "0       _World  1960  4.98\n",
       "1  Afghanistan  1960  7.45\n",
       "2      Albania  1960  6.49"
      ]
     },
     "execution_count": 251,
     "metadata": {},
     "output_type": "execute_result"
    }
   ],
   "source": [
    "fertility_rate.head(3)"
   ]
  },
  {
   "cell_type": "code",
   "execution_count": 252,
   "id": "c85bed26",
   "metadata": {},
   "outputs": [
    {
     "data": {
      "text/plain": [
       "11220"
      ]
     },
     "execution_count": 252,
     "metadata": {},
     "output_type": "execute_result"
    }
   ],
   "source": [
    "#exploring data set for missing values\n",
    "len(fertility_rate)"
   ]
  },
  {
   "cell_type": "code",
   "execution_count": 253,
   "id": "7f388256",
   "metadata": {},
   "outputs": [
    {
     "data": {
      "text/plain": [
       "Country     object\n",
       "year        object\n",
       "Fr         float64\n",
       "dtype: object"
      ]
     },
     "execution_count": 253,
     "metadata": {},
     "output_type": "execute_result"
    }
   ],
   "source": [
    "#since we have a total of 11594 values and none of these are missing\n",
    "# we will check for error in the importaion of the data\n",
    "fertility_rate.dtypes"
   ]
  },
  {
   "cell_type": "code",
   "execution_count": 254,
   "id": "7dee2c2e",
   "metadata": {},
   "outputs": [
    {
     "data": {
      "text/html": [
       "<div>\n",
       "<style scoped>\n",
       "    .dataframe tbody tr th:only-of-type {\n",
       "        vertical-align: middle;\n",
       "    }\n",
       "\n",
       "    .dataframe tbody tr th {\n",
       "        vertical-align: top;\n",
       "    }\n",
       "\n",
       "    .dataframe thead th {\n",
       "        text-align: right;\n",
       "    }\n",
       "</style>\n",
       "<table border=\"1\" class=\"dataframe\">\n",
       "  <thead>\n",
       "    <tr style=\"text-align: right;\">\n",
       "      <th></th>\n",
       "      <th>Country</th>\n",
       "      <th>year</th>\n",
       "      <th>Fr</th>\n",
       "    </tr>\n",
       "  </thead>\n",
       "  <tbody>\n",
       "    <tr>\n",
       "      <th>0</th>\n",
       "      <td>_World</td>\n",
       "      <td>1960</td>\n",
       "      <td>4.98</td>\n",
       "    </tr>\n",
       "    <tr>\n",
       "      <th>1</th>\n",
       "      <td>Afghanistan</td>\n",
       "      <td>1960</td>\n",
       "      <td>7.45</td>\n",
       "    </tr>\n",
       "    <tr>\n",
       "      <th>2</th>\n",
       "      <td>Albania</td>\n",
       "      <td>1960</td>\n",
       "      <td>6.49</td>\n",
       "    </tr>\n",
       "    <tr>\n",
       "      <th>3</th>\n",
       "      <td>Algeria</td>\n",
       "      <td>1960</td>\n",
       "      <td>7.52</td>\n",
       "    </tr>\n",
       "    <tr>\n",
       "      <th>4</th>\n",
       "      <td>Angola</td>\n",
       "      <td>1960</td>\n",
       "      <td>6.71</td>\n",
       "    </tr>\n",
       "  </tbody>\n",
       "</table>\n",
       "</div>"
      ],
      "text/plain": [
       "       Country  year    Fr\n",
       "0       _World  1960  4.98\n",
       "1  Afghanistan  1960  7.45\n",
       "2      Albania  1960  6.49\n",
       "3      Algeria  1960  7.52\n",
       "4       Angola  1960  6.71"
      ]
     },
     "execution_count": 254,
     "metadata": {},
     "output_type": "execute_result"
    }
   ],
   "source": [
    "# there's no faulty data type insertion on these row since the expected values are all met\n",
    "# to ivestigate further will try showing the column \n",
    "non_string_year = fertility_rate.year.str.contains('[0-9]')\n",
    "fertility_rate.loc[non_string_year].head()"
   ]
  },
  {
   "cell_type": "code",
   "execution_count": 255,
   "id": "95e81524",
   "metadata": {},
   "outputs": [
    {
     "data": {
      "text/html": [
       "<div>\n",
       "<style scoped>\n",
       "    .dataframe tbody tr th:only-of-type {\n",
       "        vertical-align: middle;\n",
       "    }\n",
       "\n",
       "    .dataframe tbody tr th {\n",
       "        vertical-align: top;\n",
       "    }\n",
       "\n",
       "    .dataframe thead th {\n",
       "        text-align: right;\n",
       "    }\n",
       "</style>\n",
       "<table border=\"1\" class=\"dataframe\">\n",
       "  <thead>\n",
       "    <tr style=\"text-align: right;\">\n",
       "      <th></th>\n",
       "      <th>Country</th>\n",
       "      <th>year</th>\n",
       "      <th>Fr</th>\n",
       "    </tr>\n",
       "  </thead>\n",
       "  <tbody>\n",
       "  </tbody>\n",
       "</table>\n",
       "</div>"
      ],
      "text/plain": [
       "Empty DataFrame\n",
       "Columns: [Country, year, Fr]\n",
       "Index: []"
      ]
     },
     "execution_count": 255,
     "metadata": {},
     "output_type": "execute_result"
    }
   ],
   "source": [
    "mask = fertility_rate['Country'].eq('')\n",
    "fertility_rate[mask]"
   ]
  },
  {
   "cell_type": "code",
   "execution_count": 257,
   "id": "0fb97133",
   "metadata": {},
   "outputs": [],
   "source": [
    "mask = fertility_rate.isnull()"
   ]
  },
  {
   "cell_type": "code",
   "execution_count": 353,
   "id": "38f740ea",
   "metadata": {},
   "outputs": [],
   "source": [
    "# Compute the mean and standard deviation of the data\n",
    "mean = np.mean(fretility_rate)\n",
    "std = np.std(fretility_rate)"
   ]
  },
  {
   "cell_type": "code",
   "execution_count": 360,
   "id": "0e0b5ee6",
   "metadata": {},
   "outputs": [
    {
     "name": "stdout",
     "output_type": "stream",
     "text": [
      "     Country   1960   1961   1962   1963   1964   1965   1966   1967   1968  \\\n",
      "0      False  False  False  False  False  False  False  False  False  False   \n",
      "1      False  False  False  False  False  False  False  False  False  False   \n",
      "2      False  False  False  False  False  False  False  False  False  False   \n",
      "3      False  False  False  False  False  False  False  False  False  False   \n",
      "4      False  False  False  False  False  False  False  False  False  False   \n",
      "..       ...    ...    ...    ...    ...    ...    ...    ...    ...    ...   \n",
      "182    False  False  False  False  False  False  False  False  False  False   \n",
      "183    False  False  False  False  False  False  False  False  False  False   \n",
      "184    False  False  False  False  False  False  False  False  False  False   \n",
      "185    False  False  False  False  False  False  False  False  False  False   \n",
      "186    False  False  False  False  False  False  False  False  False  False   \n",
      "\n",
      "     ...   2012   2013   2014   2015   2016   2017   2018   2019   2020  \\\n",
      "0    ...  False  False  False  False  False  False  False  False  False   \n",
      "1    ...  False  False  False  False  False  False  False  False  False   \n",
      "2    ...  False  False  False  False  False  False  False  False  False   \n",
      "3    ...  False  False  False  False  False  False  False  False  False   \n",
      "4    ...  False  False  False  False  False  False  False  False  False   \n",
      "..   ...    ...    ...    ...    ...    ...    ...    ...    ...    ...   \n",
      "182  ...  False  False  False  False  False  False  False  False  False   \n",
      "183  ...  False  False  False  False  False  False  False  False  False   \n",
      "184  ...  False  False  False  False  False  False  False  False  False   \n",
      "185  ...  False  False  False  False  False  False  False  False  False   \n",
      "186  ...  False  False  False  False  False  False  False  False  False   \n",
      "\n",
      "     Change  \n",
      "0     False  \n",
      "1     False  \n",
      "2     False  \n",
      "3     False  \n",
      "4     False  \n",
      "..      ...  \n",
      "182   False  \n",
      "183   False  \n",
      "184   False  \n",
      "185   False  \n",
      "186   False  \n",
      "\n",
      "[187 rows x 63 columns]\n"
     ]
    },
    {
     "name": "stderr",
     "output_type": "stream",
     "text": [
      "C:\\Users\\hp\\AppData\\Local\\Temp/ipykernel_21312/1007334038.py:5: FutureWarning: Automatic reindexing on DataFrame vs Series comparisons is deprecated and will raise ValueError in a future version.  Do `left, right = left.align(right, axis=1, copy=False)` before e.g. `left == right`\n",
      "  outliers = fretility_rate[np.abs(fretility_rate - mean) > n_stds * std]\n"
     ]
    }
   ],
   "source": [
    "# Set the number of standard deviations to use as the cutoff for identifying outliers\n",
    "n_stds = 3\n",
    "\n",
    "# Identify potential outliers using the mean and standard deviation\n",
    "outliers = fretility_rate[np.abs(fretility_rate - mean) > n_stds * std]\n",
    "print(outliers == True)"
   ]
  },
  {
   "cell_type": "code",
   "execution_count": 258,
   "id": "4cd06bc0",
   "metadata": {},
   "outputs": [],
   "source": [
    "# theres no missing values in the dataset so there won't be any handling of missing data \n",
    "# no outliers to handle\n",
    "# visiualize and analyze the dataset\n",
    "group_by_year = fertility_rate.loc[:, ['Country', 'year', 'Fr']].groupby('year')\n",
    "avgs = group_by_year.mean()\n",
    "x = avgs.index\n",
    "y1 = avgs.Fr\n",
    "def plot(x, y, ax, title, y_label):\n",
    "    ax.set_title(title)\n",
    "    ax.set_ylabel(y_label)\n",
    "    ax.plot(x, y)\n",
    "    ax.margins(x=0, y=0)"
   ]
  },
  {
   "cell_type": "code",
   "execution_count": 259,
   "id": "09c4f5b5",
   "metadata": {},
   "outputs": [
    {
     "data": {
      "image/png": "[encoded data removed]",
      "text/plain": [
       "<Figure size 2160x720 with 1 Axes>"
      ]
     },
     "metadata": {},
     "output_type": "display_data"
    }
   ],
   "source": [
    "fig, ax = plt.subplots()\n",
    "fig.set_size_inches(30, 10)\n",
    "plot(x, y1, ax, 'The fertility rate - Worldwide from 1960 to 2020', 'Fertility rate')"
   ]
  },
  {
   "cell_type": "code",
   "execution_count": 260,
   "id": "60d5670b",
   "metadata": {},
   "outputs": [],
   "source": [
    "# from the figure above theres a continues drop of the fertility rate with the highst value of 5.7 in 1960 and \n",
    "# lowest in 2020 2.4\n",
    "\n",
    "# lets find the highest country and lowest fertility rate in 1960\n"
   ]
  },
  {
   "cell_type": "code",
   "execution_count": 261,
   "id": "bd635edd",
   "metadata": {},
   "outputs": [
    {
     "name": "stdout",
     "output_type": "stream",
     "text": [
      "The country with the highest fertility rate, as of 1960, is:  Rwanda , with a fertility rate of:  8.19\n",
      "The country with the lowest fertility rate, as of 1960, is:  Latvia , with a fertility rate of:  1.94\n"
     ]
    }
   ],
   "source": [
    "### create a mini dataframes of the highest and lowest fertility rates\n",
    "minfert = fretility_rate[fretility_rate['1960'] == fretility_rate['1960'].min()]\n",
    "maxfert = fretility_rate[fretility_rate['1960'] == fretility_rate['1960'].max()]\n",
    "### identify the highest and lowest countries, along with their 2020 fertility rate\n",
    "\n",
    "print('The country with the highest fertility rate, as of 1960, is: ',\n",
    "      maxfert.iloc[0,0], ', with a fertility rate of: ', fretility_rate['1960'].max())\n",
    "print('The country with the lowest fertility rate, as of 1960, is: ',\n",
    "      minfert.iloc[0,0], ', with a fertility rate of: ', fretility_rate['1960'].min())"
   ]
  },
  {
   "cell_type": "code",
   "execution_count": 262,
   "id": "80500822",
   "metadata": {},
   "outputs": [
    {
     "name": "stdout",
     "output_type": "stream",
     "text": [
      "The country with the highest fertility rate, as of 2020, is:  Niger , with a fertility rate of:  6.74\n",
      "The country with the lowest fertility rate, as of 2020, is:  South Korea , with a fertility rate of:  0.84\n"
     ]
    }
   ],
   "source": [
    "# so now the highest fretililty rate in 1960 was in Rwanda and the lowest was Latvia\n",
    "\n",
    "# lets find the highest country and lowest fertility rate in 2020\n",
    "\n",
    "### create a mini dataframes of the highest and lowest fertility rates\n",
    "minfert = fretility_rate[fretility_rate['2020'] == fretility_rate['2020'].min()]\n",
    "maxfert = fretility_rate[fretility_rate['2020'] == fretility_rate['2020'].max()]\n",
    "### identify the highest and lowest countries, along with their 2020 fertility rate\n",
    "\n",
    "print('The country with the highest fertility rate, as of 2020, is: ',\n",
    "      maxfert.iloc[0,0], ', with a fertility rate of: ', fretility_rate['2020'].max())\n",
    "print('The country with the lowest fertility rate, as of 2020, is: ',\n",
    "      minfert.iloc[0,0], ', with a fertility rate of: ', fretility_rate['2020'].min())"
   ]
  },
  {
   "cell_type": "code",
   "execution_count": 263,
   "id": "572dc7c1",
   "metadata": {},
   "outputs": [
    {
     "data": {
      "image/png": "[encoded data removed]",
      "text/plain": [
       "<Figure size 432x288 with 1 Axes>"
      ]
     },
     "metadata": {},
     "output_type": "display_data"
    }
   ],
   "source": [
    "# so now the highest fretililty rate in 2020 was in Niger and the lowest was South Korea\n",
    "\n",
    "# lets observe the trend of the country with the highst fertlity rate in 2020\n",
    "\n",
    "maxplot = maxfert.T\n",
    "maxplot = maxplot[1:]\n",
    "### Create a basic line graph, adding axis labels and a title\n",
    "maxplot.plot(legend = None)\n",
    "plt.xlabel('Year')\n",
    "plt.ylabel('Fertility Rate')\n",
    "plt.title('Fertility Rate of Niger, 1960 - 2020')\n",
    "plt.show()"
   ]
  },
  {
   "cell_type": "code",
   "execution_count": 264,
   "id": "350b2972",
   "metadata": {},
   "outputs": [
    {
     "data": {
      "image/png": "[encoded data removed]",
      "text/plain": [
       "<Figure size 432x288 with 1 Axes>"
      ]
     },
     "metadata": {},
     "output_type": "display_data"
    }
   ],
   "source": [
    "# as seen the fertility rate in Niger is decilining rapidly after it was increasing until 1983\n",
    "\n",
    "# # lets observe the trend of the country with the lowest fertlity rate in 2020\n",
    "\n",
    "minplot = minfert.T\n",
    "minplot = minplot[1:]\n",
    "### Create a basic line graph, adding axis labels and a title\n",
    "minplot.plot(legend = None)\n",
    "plt.xlabel('Year')\n",
    "plt.ylabel('Fertility Rate')\n",
    "plt.title('Fertility Rate of South Korea, 1960 - 2020')\n",
    "plt.show()"
   ]
  },
  {
   "cell_type": "code",
   "execution_count": 265,
   "id": "54d537d7",
   "metadata": {},
   "outputs": [
    {
     "data": {
      "text/html": [
       "<div>\n",
       "<style scoped>\n",
       "    .dataframe tbody tr th:only-of-type {\n",
       "        vertical-align: middle;\n",
       "    }\n",
       "\n",
       "    .dataframe tbody tr th {\n",
       "        vertical-align: top;\n",
       "    }\n",
       "\n",
       "    .dataframe thead th {\n",
       "        text-align: right;\n",
       "    }\n",
       "</style>\n",
       "<table border=\"1\" class=\"dataframe\">\n",
       "  <thead>\n",
       "    <tr style=\"text-align: right;\">\n",
       "      <th></th>\n",
       "      <th>Country</th>\n",
       "      <th>1960</th>\n",
       "      <th>1961</th>\n",
       "      <th>1962</th>\n",
       "      <th>1963</th>\n",
       "      <th>1964</th>\n",
       "      <th>1965</th>\n",
       "      <th>1966</th>\n",
       "      <th>1967</th>\n",
       "      <th>1968</th>\n",
       "      <th>...</th>\n",
       "      <th>2012</th>\n",
       "      <th>2013</th>\n",
       "      <th>2014</th>\n",
       "      <th>2015</th>\n",
       "      <th>2016</th>\n",
       "      <th>2017</th>\n",
       "      <th>2018</th>\n",
       "      <th>2019</th>\n",
       "      <th>2020</th>\n",
       "      <th>Change</th>\n",
       "    </tr>\n",
       "  </thead>\n",
       "  <tbody>\n",
       "    <tr>\n",
       "      <th>0</th>\n",
       "      <td>_World</td>\n",
       "      <td>4.98</td>\n",
       "      <td>5.00</td>\n",
       "      <td>5.03</td>\n",
       "      <td>5.05</td>\n",
       "      <td>5.06</td>\n",
       "      <td>5.04</td>\n",
       "      <td>4.99</td>\n",
       "      <td>4.97</td>\n",
       "      <td>4.92</td>\n",
       "      <td>...</td>\n",
       "      <td>2.49</td>\n",
       "      <td>2.47</td>\n",
       "      <td>2.46</td>\n",
       "      <td>2.46</td>\n",
       "      <td>2.44</td>\n",
       "      <td>2.43</td>\n",
       "      <td>2.41</td>\n",
       "      <td>2.40</td>\n",
       "      <td>2.39</td>\n",
       "      <td>2.59</td>\n",
       "    </tr>\n",
       "    <tr>\n",
       "      <th>1</th>\n",
       "      <td>Afghanistan</td>\n",
       "      <td>7.45</td>\n",
       "      <td>7.45</td>\n",
       "      <td>7.45</td>\n",
       "      <td>7.45</td>\n",
       "      <td>7.45</td>\n",
       "      <td>7.45</td>\n",
       "      <td>7.45</td>\n",
       "      <td>7.45</td>\n",
       "      <td>7.45</td>\n",
       "      <td>...</td>\n",
       "      <td>5.56</td>\n",
       "      <td>5.36</td>\n",
       "      <td>5.16</td>\n",
       "      <td>4.98</td>\n",
       "      <td>4.80</td>\n",
       "      <td>4.63</td>\n",
       "      <td>4.47</td>\n",
       "      <td>4.32</td>\n",
       "      <td>4.18</td>\n",
       "      <td>3.27</td>\n",
       "    </tr>\n",
       "    <tr>\n",
       "      <th>2</th>\n",
       "      <td>Albania</td>\n",
       "      <td>6.49</td>\n",
       "      <td>6.40</td>\n",
       "      <td>6.28</td>\n",
       "      <td>6.13</td>\n",
       "      <td>5.96</td>\n",
       "      <td>5.77</td>\n",
       "      <td>5.58</td>\n",
       "      <td>5.39</td>\n",
       "      <td>5.22</td>\n",
       "      <td>...</td>\n",
       "      <td>1.68</td>\n",
       "      <td>1.69</td>\n",
       "      <td>1.69</td>\n",
       "      <td>1.68</td>\n",
       "      <td>1.66</td>\n",
       "      <td>1.64</td>\n",
       "      <td>1.62</td>\n",
       "      <td>1.60</td>\n",
       "      <td>1.58</td>\n",
       "      <td>4.91</td>\n",
       "    </tr>\n",
       "  </tbody>\n",
       "</table>\n",
       "<p>3 rows × 63 columns</p>\n",
       "</div>"
      ],
      "text/plain": [
       "       Country  1960  1961  1962  1963  1964  1965  1966  1967  1968  ...  \\\n",
       "0       _World  4.98  5.00  5.03  5.05  5.06  5.04  4.99  4.97  4.92  ...   \n",
       "1  Afghanistan  7.45  7.45  7.45  7.45  7.45  7.45  7.45  7.45  7.45  ...   \n",
       "2      Albania  6.49  6.40  6.28  6.13  5.96  5.77  5.58  5.39  5.22  ...   \n",
       "\n",
       "   2012  2013  2014  2015  2016  2017  2018  2019  2020  Change  \n",
       "0  2.49  2.47  2.46  2.46  2.44  2.43  2.41  2.40  2.39    2.59  \n",
       "1  5.56  5.36  5.16  4.98  4.80  4.63  4.47  4.32  4.18    3.27  \n",
       "2  1.68  1.69  1.69  1.68  1.66  1.64  1.62  1.60  1.58    4.91  \n",
       "\n",
       "[3 rows x 63 columns]"
      ]
     },
     "execution_count": 265,
     "metadata": {},
     "output_type": "execute_result"
    }
   ],
   "source": [
    "# in south korea the fertility rate is declining rapidly until 1984 then began to decline more discreetly afterwards\n",
    "\n",
    "# lets obsereve the change in fr from 1960 to 2020\n",
    "fretility_rate['Change'] = np.abs(fretility_rate['2020'] - fretility_rate['1960'])\n",
    "### first 3 observations\n",
    "fretility_rate.head(3)"
   ]
  },
  {
   "cell_type": "code",
   "execution_count": 266,
   "id": "e1b61d3d",
   "metadata": {},
   "outputs": [
    {
     "name": "stdout",
     "output_type": "stream",
     "text": [
      "The country with the highest change fertility rate from 1960 to 2020 is:  St. Lucia and United Arab Emirates with a change of:  5.56\n",
      "The country with the least change in fertility rate from 1960 to 2020 is:  Czechia , with a change of:  0.3799999999999999\n"
     ]
    }
   ],
   "source": [
    "# let's find the countries with the highest and lowest change in their fr\n",
    "maxchange = fretility_rate[fretility_rate['Change'] == fretility_rate['Change'].max()]\n",
    "minchange = fretility_rate[fretility_rate['Change'] == fretility_rate['Change'].min()]\n",
    "\n",
    "# finding the highest and lowest countries\n",
    "print('The country with the highest change fertility rate from 1960 to 2020 is: ',\n",
    "      maxchange.iloc[0,0] ,\"and\",maxchange.iloc[1,0],'with a change of: ', fretility_rate['Change'].max())\n",
    "print('The country with the least change in fertility rate from 1960 to 2020 is: ',\n",
    "      minchange.iloc[0,0], ', with a change of: ', fretility_rate['Change'].min())\n"
   ]
  },
  {
   "cell_type": "code",
   "execution_count": 267,
   "id": "f80d8a0e",
   "metadata": {},
   "outputs": [
    {
     "data": {
      "image/png": "[encoded data removed]",
      "text/plain": [
       "<Figure size 432x288 with 1 Axes>"
      ]
     },
     "metadata": {},
     "output_type": "display_data"
    }
   ],
   "source": [
    "# as seen the highst change or decline of fr was in UAE and St.Lucia \n",
    "maxcplot = maxchange.T\n",
    "maxcplot = maxcplot[1:-1]\n",
    "### Create a basic line graph, adding axis labels, a legend and a title\n",
    "maxcplot.plot()\n",
    "plt.legend(['St. Lucia', ' UAE'])\n",
    "plt.xlabel('Year')\n",
    "plt.ylabel('Fertility Rate')\n",
    "plt.title('Fertility Rate of St. Lucia, 1960 - 2020')\n",
    "plt.show()\n"
   ]
  },
  {
   "cell_type": "code",
   "execution_count": 268,
   "id": "5045efbe",
   "metadata": {},
   "outputs": [
    {
     "data": {
      "image/png": "[encoded data removed]",
      "text/plain": [
       "<Figure size 432x288 with 1 Axes>"
      ]
     },
     "metadata": {},
     "output_type": "display_data"
    }
   ],
   "source": [
    "# \n",
    "mincplot = minchange.T\n",
    "mincplot = mincplot[1:-1]\n",
    "# Creating a plot , adding axis labels and a title\n",
    "mincplot.plot(legend = None)\n",
    "plt.xlabel('Year')\n",
    "plt.ylabel('Fertility Rate')\n",
    "plt.title('Fertility Rate of Czechia, 1960 - 2020')\n",
    "plt.show()"
   ]
  },
  {
   "cell_type": "code",
   "execution_count": 383,
   "id": "d944b2d5",
   "metadata": {},
   "outputs": [
    {
     "name": "stdout",
     "output_type": "stream",
     "text": [
      "2244 2244\n"
     ]
    }
   ],
   "source": [
    "\n",
    "X = fertility_rate.drop(columns=['Fr','Country'])\n",
    "y = fertility_rate['Fr']\n",
    "X_train, X_test, y_train, y_test = train_test_split(X, y, test_size=0.2, random_state=1)\n",
    "rows = len(X_test)\n",
    "# computing number of columns\n",
    "cols = len(y_test)\n",
    "print(rows, cols )"
   ]
  },
  {
   "cell_type": "code",
   "execution_count": 326,
   "id": "9362cbe7",
   "metadata": {},
   "outputs": [
    {
     "name": "stdout",
     "output_type": "stream",
     "text": [
      "298134.30258490256\n",
      "[[1990.59197879]\n",
      " [1970.05318808]\n",
      " [2010.04439746]]\n",
      "5\n",
      "[1 2 1 2 0]\n"
     ]
    }
   ],
   "source": [
    "kmeans = KMeans(init=\"random\", n_clusters=3, n_init=10, max_iter=300, random_state=42 )\n",
    "kmeans.fit(X_train) #Replace your training dataset instead of x_train\n",
    "# The lowest SSE value\n",
    "print(kmeans.inertia_)\n",
    "# Final locations of the centroid\n",
    "print(kmeans.cluster_centers_)\n",
    "# The number of iterations required to converge\n",
    "print(kmeans.n_iter_)\n",
    "# first five predicted labels \n",
    "print(kmeans.labels_[:5])\n"
   ]
  },
  {
   "cell_type": "code",
   "execution_count": 335,
   "id": "48a38605",
   "metadata": {},
   "outputs": [
    {
     "data": {
      "text/html": [
       "<div>\n",
       "<style scoped>\n",
       "    .dataframe tbody tr th:only-of-type {\n",
       "        vertical-align: middle;\n",
       "    }\n",
       "\n",
       "    .dataframe tbody tr th {\n",
       "        vertical-align: top;\n",
       "    }\n",
       "\n",
       "    .dataframe thead th {\n",
       "        text-align: right;\n",
       "    }\n",
       "</style>\n",
       "<table border=\"1\" class=\"dataframe\">\n",
       "  <thead>\n",
       "    <tr style=\"text-align: right;\">\n",
       "      <th></th>\n",
       "      <th>year</th>\n",
       "      <th>Fr</th>\n",
       "    </tr>\n",
       "  </thead>\n",
       "  <tbody>\n",
       "    <tr>\n",
       "      <th>0</th>\n",
       "      <td>1960</td>\n",
       "      <td>4.98</td>\n",
       "    </tr>\n",
       "    <tr>\n",
       "      <th>1</th>\n",
       "      <td>1960</td>\n",
       "      <td>7.45</td>\n",
       "    </tr>\n",
       "    <tr>\n",
       "      <th>2</th>\n",
       "      <td>1960</td>\n",
       "      <td>6.49</td>\n",
       "    </tr>\n",
       "    <tr>\n",
       "      <th>3</th>\n",
       "      <td>1960</td>\n",
       "      <td>7.52</td>\n",
       "    </tr>\n",
       "    <tr>\n",
       "      <th>4</th>\n",
       "      <td>1960</td>\n",
       "      <td>6.71</td>\n",
       "    </tr>\n",
       "  </tbody>\n",
       "</table>\n",
       "</div>"
      ],
      "text/plain": [
       "   year    Fr\n",
       "0  1960  4.98\n",
       "1  1960  7.45\n",
       "2  1960  6.49\n",
       "3  1960  7.52\n",
       "4  1960  6.71"
      ]
     },
     "execution_count": 335,
     "metadata": {},
     "output_type": "execute_result"
    }
   ],
   "source": [
    "clus = fertility_rate.drop(columns=['Country'])\n",
    "clus = pd.DataFrame(clus)\n",
    "clus.columns = ['year', 'Fr']\n",
    "clus.head()"
   ]
  },
  {
   "cell_type": "code",
   "execution_count": 336,
   "id": "fc52c2b3",
   "metadata": {},
   "outputs": [],
   "source": [
    "# Create the k-means model\n",
    "kmeans = KMeans(n_clusters=3, max_iter=40).fit(clus)\n",
    "\n"
   ]
  },
  {
   "cell_type": "code",
   "execution_count": 368,
   "id": "c2215571",
   "metadata": {},
   "outputs": [
    {
     "data": {
      "text/plain": [
       "[<matplotlib.lines.Line2D at 0x19952071820>]"
      ]
     },
     "execution_count": 368,
     "metadata": {},
     "output_type": "execute_result"
    },
    {
     "data": {
      "image/png": "[encoded data removed]",
      "text/plain": [
       "<Figure size 432x288 with 1 Axes>"
      ]
     },
     "metadata": {},
     "output_type": "display_data"
    }
   ],
   "source": [
    "# Elbow Curve to get the right number of Cluster\n",
    "ssd = []\n",
    "range_n_clusters = [2, 3, 4, 5, 6, 7, 8]\n",
    "for num_clusters in range_n_clusters:\n",
    "    kmeans = KMeans(n_clusters=num_clusters, max_iter=40)\n",
    "    kmeans.fit(clus)\n",
    "    \n",
    "    ssd.append(kmeans.inertia_)\n",
    "    \n",
    "# plot the SSDs for each n_clusters\n",
    "plt.plot(ssd)"
   ]
  },
  {
   "cell_type": "code",
   "execution_count": 374,
   "id": "01aefdb4",
   "metadata": {},
   "outputs": [
    {
     "name": "stdout",
     "output_type": "stream",
     "text": [
      "For n_clusters=2, the silhouette score is 0.6058000067770053\n",
      "For n_clusters=3, the silhouette score is 0.5533000931314114\n",
      "For n_clusters=4, the silhouette score is 0.5150829546727067\n",
      "For n_clusters=5, the silhouette score is 0.5291659232241898\n",
      "For n_clusters=6, the silhouette score is 0.4955393372353631\n",
      "For n_clusters=7, the silhouette score is 0.45821658896500644\n",
      "For n_clusters=8, the silhouette score is 0.45065151195239134\n"
     ]
    }
   ],
   "source": [
    "# Silhouette analysis\n",
    "range_n_clusters = [2, 3, 4, 5, 6, 7, 8]\n",
    "\n",
    "for num_clusters in range_n_clusters:\n",
    "    \n",
    "    # intialise kmeans\n",
    "    kmeans = KMeans(n_clusters=num_clusters, max_iter=50)\n",
    "    kmeans.fit(clus)\n",
    "    \n",
    "    cluster_labels = kmeans.labels_\n",
    "    \n",
    "    # silhouette score\n",
    "    silhouette_avg = silhouette_score(clus, cluster_labels)\n",
    "    print(\"For n_clusters={0}, the silhouette score is {1}\".format(num_clusters, silhouette_avg))\n",
    "    "
   ]
  },
  {
   "cell_type": "code",
   "execution_count": 475,
   "id": "2ec42a2a",
   "metadata": {},
   "outputs": [],
   "source": [
    "# final kmean model\n",
    "\n",
    "# Create the k-means model\n",
    "kmeans = KMeans(n_clusters=3, max_iter=40).fit(clus)\n"
   ]
  },
  {
   "cell_type": "code",
   "execution_count": 476,
   "id": "ad9cda0d",
   "metadata": {},
   "outputs": [
    {
     "data": {
      "text/plain": [
       "array([2, 2, 2, ..., 1, 1, 1])"
      ]
     },
     "execution_count": 476,
     "metadata": {},
     "output_type": "execute_result"
    }
   ],
   "source": [
    " kmeans.labels_"
   ]
  },
  {
   "cell_type": "code",
   "execution_count": 477,
   "id": "4f272ef6",
   "metadata": {},
   "outputs": [
    {
     "data": {
      "text/html": [
       "<div>\n",
       "<style scoped>\n",
       "    .dataframe tbody tr th:only-of-type {\n",
       "        vertical-align: middle;\n",
       "    }\n",
       "\n",
       "    .dataframe tbody tr th {\n",
       "        vertical-align: top;\n",
       "    }\n",
       "\n",
       "    .dataframe thead th {\n",
       "        text-align: right;\n",
       "    }\n",
       "</style>\n",
       "<table border=\"1\" class=\"dataframe\">\n",
       "  <thead>\n",
       "    <tr style=\"text-align: right;\">\n",
       "      <th></th>\n",
       "      <th>year</th>\n",
       "      <th>Fr</th>\n",
       "      <th>Cluster_Id</th>\n",
       "    </tr>\n",
       "  </thead>\n",
       "  <tbody>\n",
       "    <tr>\n",
       "      <th>0</th>\n",
       "      <td>1960</td>\n",
       "      <td>4.98</td>\n",
       "      <td>2</td>\n",
       "    </tr>\n",
       "    <tr>\n",
       "      <th>1</th>\n",
       "      <td>1960</td>\n",
       "      <td>7.45</td>\n",
       "      <td>2</td>\n",
       "    </tr>\n",
       "    <tr>\n",
       "      <th>2</th>\n",
       "      <td>1960</td>\n",
       "      <td>6.49</td>\n",
       "      <td>2</td>\n",
       "    </tr>\n",
       "    <tr>\n",
       "      <th>3</th>\n",
       "      <td>1960</td>\n",
       "      <td>7.52</td>\n",
       "      <td>2</td>\n",
       "    </tr>\n",
       "    <tr>\n",
       "      <th>4</th>\n",
       "      <td>1960</td>\n",
       "      <td>6.71</td>\n",
       "      <td>2</td>\n",
       "    </tr>\n",
       "  </tbody>\n",
       "</table>\n",
       "</div>"
      ],
      "text/plain": [
       "   year    Fr  Cluster_Id\n",
       "0  1960  4.98           2\n",
       "1  1960  7.45           2\n",
       "2  1960  6.49           2\n",
       "3  1960  7.52           2\n",
       "4  1960  6.71           2"
      ]
     },
     "execution_count": 477,
     "metadata": {},
     "output_type": "execute_result"
    }
   ],
   "source": [
    " # assign the label\n",
    "clus['Cluster_Id'] = kmeans.labels_\n",
    "clus.head()"
   ]
  },
  {
   "cell_type": "code",
   "execution_count": 478,
   "id": "807a1fb2",
   "metadata": {},
   "outputs": [
    {
     "data": {
      "text/plain": [
       "<AxesSubplot:xlabel='Cluster_Id', ylabel='Fr'>"
      ]
     },
     "execution_count": 478,
     "metadata": {},
     "output_type": "execute_result"
    },
    {
     "data": {
      "image/png": "[encoded data removed]",
      "text/plain": [
       "<Figure size 432x288 with 1 Axes>"
      ]
     },
     "metadata": {},
     "output_type": "display_data"
    }
   ],
   "source": [
    "# Box plot to visualize Cluster Id  Fr\n",
    "\n",
    "sns.boxplot(x='Cluster_Id', y='Fr', data=clus)"
   ]
  },
  {
   "cell_type": "code",
   "execution_count": 385,
   "id": "62ec4379",
   "metadata": {},
   "outputs": [
    {
     "data": {
      "text/plain": [
       "LinearRegression()"
      ]
     },
     "execution_count": 385,
     "metadata": {},
     "output_type": "execute_result"
    }
   ],
   "source": [
    "# linear ragrission prediction model\n",
    "regressor = LinearRegression()\n",
    "regressor.fit(X_train,y_train)"
   ]
  },
  {
   "cell_type": "code",
   "execution_count": 386,
   "id": "c476460a",
   "metadata": {},
   "outputs": [
    {
     "name": "stdout",
     "output_type": "stream",
     "text": [
      "113.0353365894169\n"
     ]
    }
   ],
   "source": [
    "#Retrieve the intercept\n",
    "print(regressor.intercept_)"
   ]
  },
  {
   "cell_type": "code",
   "execution_count": 388,
   "id": "365e0264",
   "metadata": {},
   "outputs": [
    {
     "name": "stdout",
     "output_type": "stream",
     "text": [
      "[-0.05478376]\n"
     ]
    }
   ],
   "source": [
    "#Retrieve the slop\n",
    "print(regressor.coef_)"
   ]
  },
  {
   "cell_type": "code",
   "execution_count": 392,
   "id": "04d595e3",
   "metadata": {},
   "outputs": [
    {
     "data": {
      "text/html": [
       "<div>\n",
       "<style scoped>\n",
       "    .dataframe tbody tr th:only-of-type {\n",
       "        vertical-align: middle;\n",
       "    }\n",
       "\n",
       "    .dataframe tbody tr th {\n",
       "        vertical-align: top;\n",
       "    }\n",
       "\n",
       "    .dataframe thead th {\n",
       "        text-align: right;\n",
       "    }\n",
       "</style>\n",
       "<table border=\"1\" class=\"dataframe\">\n",
       "  <thead>\n",
       "    <tr style=\"text-align: right;\">\n",
       "      <th></th>\n",
       "      <th>predicted</th>\n",
       "    </tr>\n",
       "  </thead>\n",
       "  <tbody>\n",
       "    <tr>\n",
       "      <th>0</th>\n",
       "      <td>4.892190</td>\n",
       "    </tr>\n",
       "    <tr>\n",
       "      <th>1</th>\n",
       "      <td>3.358245</td>\n",
       "    </tr>\n",
       "    <tr>\n",
       "      <th>2</th>\n",
       "      <td>4.563488</td>\n",
       "    </tr>\n",
       "    <tr>\n",
       "      <th>3</th>\n",
       "      <td>3.577380</td>\n",
       "    </tr>\n",
       "    <tr>\n",
       "      <th>4</th>\n",
       "      <td>4.892190</td>\n",
       "    </tr>\n",
       "    <tr>\n",
       "      <th>...</th>\n",
       "      <td>...</td>\n",
       "    </tr>\n",
       "    <tr>\n",
       "      <th>2239</th>\n",
       "      <td>4.837406</td>\n",
       "    </tr>\n",
       "    <tr>\n",
       "      <th>2240</th>\n",
       "      <td>4.618271</td>\n",
       "    </tr>\n",
       "    <tr>\n",
       "      <th>2241</th>\n",
       "      <td>5.549595</td>\n",
       "    </tr>\n",
       "    <tr>\n",
       "      <th>2242</th>\n",
       "      <td>4.289569</td>\n",
       "    </tr>\n",
       "    <tr>\n",
       "      <th>2243</th>\n",
       "      <td>4.344353</td>\n",
       "    </tr>\n",
       "  </tbody>\n",
       "</table>\n",
       "<p>2244 rows × 1 columns</p>\n",
       "</div>"
      ],
      "text/plain": [
       "      predicted\n",
       "0      4.892190\n",
       "1      3.358245\n",
       "2      4.563488\n",
       "3      3.577380\n",
       "4      4.892190\n",
       "...         ...\n",
       "2239   4.837406\n",
       "2240   4.618271\n",
       "2241   5.549595\n",
       "2242   4.289569\n",
       "2243   4.344353\n",
       "\n",
       "[2244 rows x 1 columns]"
      ]
     },
     "execution_count": 392,
     "metadata": {},
     "output_type": "execute_result"
    }
   ],
   "source": [
    "#Comparing the predicted value to the actual value\n",
    "y_pred = regressor.predict(X_test)\n",
    "y_pred = pd.DataFrame(y_pred, columns= [\"predicted\"])\n",
    "y_pred"
   ]
  },
  {
   "cell_type": "code",
   "execution_count": 393,
   "id": "216dd137",
   "metadata": {},
   "outputs": [
    {
     "data": {
      "text/plain": [
       "2649    5.83\n",
       "7867    1.93\n",
       "3810    3.25\n",
       "7260    1.13\n",
       "2711    6.40\n",
       "        ... \n",
       "2811    6.65\n",
       "3732    2.79\n",
       "481     3.24\n",
       "4683    2.56\n",
       "4535    1.40\n",
       "Name: Fr, Length: 2244, dtype: float64"
      ]
     },
     "execution_count": 393,
     "metadata": {},
     "output_type": "execute_result"
    }
   ],
   "source": [
    "y_test"
   ]
  },
  {
   "cell_type": "code",
   "execution_count": 460,
   "id": "3aaa9135",
   "metadata": {},
   "outputs": [
    {
     "name": "stdout",
     "output_type": "stream",
     "text": [
      "Mean absolute Error: 263.00222816399287\n",
      "Mean squared Error: 115241.53231862745\n",
      "Root Mean squared Error: 339.472432339693\n",
      "Variance score: 0.22\n"
     ]
    }
   ],
   "source": [
    "# evaluating the algorithm\n",
    "print('Mean absolute Error:', metrics.mean_absolute_error(y_test, y_pred))\n",
    "print('Mean squared Error:', metrics.mean_squared_error(y_test, y_pred))\n",
    "print('Root Mean squared Error:', np.sqrt(metrics.mean_squared_error(y_test, y_pred)))\n",
    "# Explained variance score: 1 is perfect prediction\n",
    "print('Variance score: %.2f' % regressor.score(X_test, y_test))"
   ]
  },
  {
   "cell_type": "code",
   "execution_count": 413,
   "id": "c7b8817b",
   "metadata": {},
   "outputs": [],
   "source": [
    "#convert y values to categorical values\n",
    "y = fertility_rate['Fr']\n",
    "lab = preprocessing.LabelEncoder()\n",
    "y_transformed = lab.fit_transform(y)\n",
    "X = fertility_rate.drop(columns=['Fr','Country'])\n",
    "X_train, X_test, y_ttrain, y_ttest = train_test_split(X, y_transformed, test_size=0.2, random_state=1)\n"
   ]
  },
  {
   "cell_type": "code",
   "execution_count": 414,
   "id": "a43736e2",
   "metadata": {},
   "outputs": [],
   "source": [
    "# Create Decision Tree classifer object\n",
    "clf = DecisionTreeClassifier()\n",
    "\n",
    "# Train Decision Tree Classifer\n",
    "clf = clf.fit(X_train,y_ttrain)\n",
    "\n",
    "#Predict the response for test dataset\n",
    "y_pred = clf.predict(X_test)"
   ]
  },
  {
   "cell_type": "code",
   "execution_count": 459,
   "id": "21dd3e30",
   "metadata": {},
   "outputs": [
    {
     "name": "stdout",
     "output_type": "stream",
     "text": [
      "Accuracy: 0.0022281639928698753\n"
     ]
    }
   ],
   "source": [
    "# Model Accuracy\n",
    "print(\"Accuracy:\",metrics.accuracy_score(y_ttest, y_pred))"
   ]
  },
  {
   "cell_type": "code",
   "execution_count": 422,
   "id": "1c27cba6",
   "metadata": {},
   "outputs": [
    {
     "name": "stdout",
     "output_type": "stream",
     "text": [
      "Accuracy: 0.007575757575757576\n"
     ]
    }
   ],
   "source": [
    "# we can improve this accuracy by tuning the parameters in the Decision Tree Algorithm.\n",
    "# Create Decision Tree classifer object\n",
    "clf = DecisionTreeClassifier(criterion=\"entropy\", max_depth=3)\n",
    "\n",
    "# Train Decision Tree Classifer\n",
    "clf = clf.fit(X_train,y_ttrain)\n",
    "\n",
    "#Predict the response for test dataset\n",
    "y_pred = clf.predict(X_test)\n",
    "\n",
    "# Model Accuracy, how often is the classifier correct?\n",
    "print(\"Accuracy:\",metrics.accuracy_score(y_ttest, y_pred))"
   ]
  },
  {
   "cell_type": "code",
   "execution_count": 424,
   "id": "5818d8e8",
   "metadata": {},
   "outputs": [
    {
     "ename": "ModuleNotFoundError",
     "evalue": "No module named 'sklearn.externals.six'",
     "output_type": "error",
     "traceback": [
      "\u001b[1;31m---------------------------------------------------------------------------\u001b[0m",
      "\u001b[1;31mModuleNotFoundError\u001b[0m                       Traceback (most recent call last)",
      "\u001b[1;32m~\\AppData\\Local\\Temp/ipykernel_21312/3486929675.py\u001b[0m in \u001b[0;36m<module>\u001b[1;34m\u001b[0m\n\u001b[1;32m----> 1\u001b[1;33m \u001b[1;32mfrom\u001b[0m \u001b[0msklearn\u001b[0m\u001b[1;33m.\u001b[0m\u001b[0mexternals\u001b[0m\u001b[1;33m.\u001b[0m\u001b[0msix\u001b[0m \u001b[1;32mimport\u001b[0m \u001b[0mStringIO\u001b[0m\u001b[1;33m\u001b[0m\u001b[1;33m\u001b[0m\u001b[0m\n\u001b[0m\u001b[0;32m      2\u001b[0m \u001b[1;32mfrom\u001b[0m \u001b[0mIPython\u001b[0m\u001b[1;33m.\u001b[0m\u001b[0mdisplay\u001b[0m \u001b[1;32mimport\u001b[0m \u001b[0mImage\u001b[0m\u001b[1;33m\u001b[0m\u001b[1;33m\u001b[0m\u001b[0m\n\u001b[0;32m      3\u001b[0m \u001b[1;32mfrom\u001b[0m \u001b[0msklearn\u001b[0m\u001b[1;33m.\u001b[0m\u001b[0mtree\u001b[0m \u001b[1;32mimport\u001b[0m \u001b[0mexport_graphviz\u001b[0m\u001b[1;33m\u001b[0m\u001b[1;33m\u001b[0m\u001b[0m\n\u001b[0;32m      4\u001b[0m \u001b[1;32mimport\u001b[0m \u001b[0mpydotplus\u001b[0m\u001b[1;33m\u001b[0m\u001b[1;33m\u001b[0m\u001b[0m\n\u001b[0;32m      5\u001b[0m \u001b[0mdot_data\u001b[0m \u001b[1;33m=\u001b[0m \u001b[0mStringIO\u001b[0m\u001b[1;33m(\u001b[0m\u001b[1;33m)\u001b[0m\u001b[1;33m\u001b[0m\u001b[1;33m\u001b[0m\u001b[0m\n",
      "\u001b[1;31mModuleNotFoundError\u001b[0m: No module named 'sklearn.externals.six'"
     ]
    }
   ],
   "source": [
    "from sklearn.externals.six import StringIO  \n",
    "from IPython.display import Image  \n",
    "from sklearn.tree import export_graphviz\n",
    "import pydotplus\n",
    "dot_data = StringIO()\n",
    "export_graphviz(clf, out_file=dot_data,  \n",
    "                filled=True, rounded=True,\n",
    "                special_characters=True, feature_names = feature_cols,class_names=['0','1'])\n",
    "graph = pydotplus.graph_from_dot_data(dot_data.getvalue())  \n",
    "graph.write_png('diabetes.png')\n",
    "Image(graph.create_png())"
   ]
  },
  {
   "cell_type": "code",
   "execution_count": 456,
   "id": "9e61fd0b",
   "metadata": {},
   "outputs": [],
   "source": [
    "\n",
    "#Create a Gaussian Classifier\n",
    "clf=RandomForestClassifier(n_estimators=100)\n",
    "\n",
    "#Train the model using the training sets y_pred=clf.predict(X_test)\n",
    "clf.fit(X_train,y_ttrain)\n",
    "\n",
    "y_pred=clf.predict(X_test)"
   ]
  },
  {
   "cell_type": "code",
   "execution_count": 457,
   "id": "c934cbf9",
   "metadata": {},
   "outputs": [
    {
     "name": "stdout",
     "output_type": "stream",
     "text": [
      "Accuracy: 0.001336898395721925\n"
     ]
    }
   ],
   "source": [
    "# metrics module for accuracy calculation\n",
    "# Model Accuracy\n",
    "print(\"Accuracy:\",metrics.accuracy_score(y_ttest, y_pred))"
   ]
  },
  {
   "cell_type": "code",
   "execution_count": 458,
   "id": "adaa0ea0",
   "metadata": {},
   "outputs": [
    {
     "name": "stdout",
     "output_type": "stream",
     "text": [
      "Accuracy: 0.0022281639928698753\n"
     ]
    }
   ],
   "source": [
    "#Creating a Gaussian Classifier\n",
    "clf=RandomForestClassifier(n_estimators=100)\n",
    "\n",
    "#Train the model using the training sets y_pred=clf.predict(X_test)\n",
    "clf.fit(X_train,y_ttrain)\n",
    "\n",
    "# prediction on test set\n",
    "y_pred=clf.predict(X_test)\n",
    "\n",
    "#Import scikit-learn metrics module for accuracy calculation\n",
    "from sklearn import metrics\n",
    "# Model Accuracy\n",
    "print(\"Accuracy:\",metrics.accuracy_score(y_ttest, y_pred))"
   ]
  },
  {
   "cell_type": "code",
   "execution_count": 474,
   "id": "720180bc",
   "metadata": {},
   "outputs": [
    {
     "data": {
      "image/png": "[encoded data removed]",
      "text/plain": [
       "<Figure size 432x288 with 1 Axes>"
      ]
     },
     "metadata": {},
     "output_type": "display_data"
    }
   ],
   "source": [
    "\n",
    "plt.bar(fertility_rate['year'], fertility_rate['Fr'])\n",
    " \n",
    "plt.title(\"Bar Chart\")\n",
    " \n",
    "# Setting the X and Y labels\n",
    "plt.xlabel('year')\n",
    "plt.ylabel('Fr')\n",
    " \n",
    "# Adding the legends\n",
    "\n",
    "plt.show()"
   ]
  },
  {
   "cell_type": "code",
   "execution_count": 480,
   "id": "c22edab5",
   "metadata": {},
   "outputs": [
    {
     "name": "stdout",
     "output_type": "stream",
     "text": [
      "MSE train: 3.141, test: 3.122\n",
      "R^2 train: 0.222, test: 0.224\n"
     ]
    }
   ],
   "source": [
    "# Fit a pipeline using Training dataset and related labels\n",
    "# Use Ridge algorithm for training the model\n",
    "#\n",
    "from sklearn.preprocessing import StandardScaler\n",
    "from sklearn.linear_model import Ridge\n",
    "from sklearn.pipeline import make_pipeline\n",
    "from sklearn.metrics import mean_squared_error, r2_score\n",
    "pipeline = make_pipeline(StandardScaler(), Ridge(alpha=1.0))\n",
    "pipeline.fit(X_train, y_train)\n",
    "#\n",
    "# Calculate the predicted value for training and test dataset\n",
    "#\n",
    "y_train_pred = pipeline.predict(X_train)\n",
    "y_test_pred = pipeline.predict(X_test)\n",
    "#\n",
    "# Mean Squared Error\n",
    "#\n",
    "print('MSE train: %.3f, test: %.3f' % (mean_squared_error(y_train, y_train_pred),\n",
    "                mean_squared_error(y_test, y_test_pred)))\n",
    "#\n",
    "# R-Squared\n",
    "#\n",
    "print('R^2 train: %.3f, test: %.3f' % (r2_score(y_train, y_train_pred), r2_score(y_test, y_test_pred)))"
   ]
  }
 ],
 "metadata": {
  "kernelspec": {
   "display_name": "Python 3 (ipykernel)",
   "language": "python",
   "name": "python3"
  },
  "language_info": {
   "codemirror_mode": {
    "name": "ipython",
    "version": 3
   },
   "file_extension": ".py",
   "mimetype": "text/x-python",
   "name": "python",
   "nbconvert_exporter": "python",
   "pygments_lexer": "ipython3",
   "version": "3.9.7"
  }
 },
 "nbformat": 4,
 "nbformat_minor": 5
}
